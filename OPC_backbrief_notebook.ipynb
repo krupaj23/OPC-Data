{
    "metadata": {
        "kernelspec": {
            "name": "SQL",
            "display_name": "SQL",
            "language": "sql"
        },
        "language_info": {
            "name": "sql",
            "version": ""
        }
    },
    "nbformat_minor": 2,
    "nbformat": 4,
    "cells": [
        {
            "cell_type": "markdown",
            "source": [
                "#  OPC Corporate Back Brief Project\r\n",
                "## Outdoor Performance Center Data Science Team \r\n",
                "[Krupa Jacob]\r\n",
                "[03/10/2024]"
            ],
            "metadata": {
                "azdata_cell_guid": "6631a47d-0243-4ebc-8a5d-283db5d46ec8"
            },
            "attachments": {}
        },
        {
            "cell_type": "markdown",
            "source": [
                "Example query to analyze product sales:\r\n",
                ""
            ],
            "metadata": {
                "language": "sql",
                "azdata_cell_guid": "b93e77e5-7987-4e3e-8a63-ef87939bc711"
            },
            "attachments": {}
        },
        {
            "cell_type": "code",
            "source": [
                "SELECT p.prod_name, SUM(o.order_tot) AS total_sales\r\n",
                "FROM products p\r\n",
                "JOIN orders o ON p.prod_id = o.prod_id\r\n",
                "GROUP BY p.prod_name\r\n",
                "ORDER BY total_sales DESC;"
            ],
            "metadata": {
                "azdata_cell_guid": "7a68123f-1c8e-4ab3-86cb-6dfac78c9077",
                "language": "sql"
            },
            "outputs": [
                {
                    "output_type": "display_data",
                    "data": {
                        "text/html": "(68 row(s) affected)"
                    },
                    "metadata": {}
                },
                {
                    "output_type": "display_data",
                    "data": {
                        "text/html": "Total execution time: 00:00:00.013"
                    },
                    "metadata": {}
                },
                {
                    "output_type": "execute_result",
                    "execution_count": 1,
                    "data": {
                        "application/vnd.dataresource+json": {
                            "schema": {
                                "fields": [
                                    {
                                        "name": "prod_name"
                                    },
                                    {
                                        "name": "total_sales"
                                    }
                                ]
                            },
                            "data": [
                                {
                                    "prod_name": "Rail",
                                    "total_sales": "348444.84"
                                },
                                {
                                    "prod_name": "SB160",
                                    "total_sales": "324004.06"
                                },
                                {
                                    "prod_name": "Occam",
                                    "total_sales": "319280.03"
                                },
                                {
                                    "prod_name": "Altitude",
                                    "total_sales": "313788.5"
                                },
                                {
                                    "prod_name": "SB150",
                                    "total_sales": "306540"
                                },
                                {
                                    "prod_name": "Gnarvana",
                                    "total_sales": "280900.44"
                                },
                                {
                                    "prod_name": "Wreckoning",
                                    "total_sales": "278751.8"
                                },
                                {
                                    "prod_name": "E-Series",
                                    "total_sales": "269617.47"
                                },
                                {
                                    "prod_name": "Firebird",
                                    "total_sales": "259038.38"
                                },
                                {
                                    "prod_name": "Mojo",
                                    "total_sales": "255649.11"
                                },
                                {
                                    "prod_name": "Stereo",
                                    "total_sales": "235657.39"
                                },
                                {
                                    "prod_name": "Meta Am",
                                    "total_sales": "235024.34"
                                },
                                {
                                    "prod_name": "SuperFoxy",
                                    "total_sales": "230741.83"
                                },
                                {
                                    "prod_name": "Sight",
                                    "total_sales": "226544.44"
                                },
                                {
                                    "prod_name": "Following",
                                    "total_sales": "225652.16"
                                },
                                {
                                    "prod_name": "Trail Pistol",
                                    "total_sales": "219938.48"
                                },
                                {
                                    "prod_name": "X Trance",
                                    "total_sales": "212526.75"
                                },
                                {
                                    "prod_name": "Megatower",
                                    "total_sales": "211932.97"
                                },
                                {
                                    "prod_name": "Clash",
                                    "total_sales": "208997.75"
                                },
                                {
                                    "prod_name": "Hei Hei",
                                    "total_sales": "208890.25"
                                },
                                {
                                    "prod_name": "Shredd Dog",
                                    "total_sales": "208804.83"
                                },
                                {
                                    "prod_name": "Megatrail",
                                    "total_sales": "207981.69"
                                },
                                {
                                    "prod_name": "Onset",
                                    "total_sales": "199980"
                                },
                                {
                                    "prod_name": "Insurgent",
                                    "total_sales": "199298.97"
                                },
                                {
                                    "prod_name": "SB115",
                                    "total_sales": "197773.69"
                                },
                                {
                                    "prod_name": "Tracer",
                                    "total_sales": "196193.78"
                                },
                                {
                                    "prod_name": "Stumpjumper",
                                    "total_sales": "194885.1"
                                },
                                {
                                    "prod_name": "Enduro",
                                    "total_sales": "193599.38"
                                },
                                {
                                    "prod_name": "Ripley",
                                    "total_sales": "192953.55"
                                },
                                {
                                    "prod_name": "Instinct",
                                    "total_sales": "192800.8"
                                },
                                {
                                    "prod_name": "SB140",
                                    "total_sales": "188543.48"
                                },
                                {
                                    "prod_name": "AMD",
                                    "total_sales": "187747.27"
                                },
                                {
                                    "prod_name": "Haste",
                                    "total_sales": "180871.84"
                                },
                                {
                                    "prod_name": "Mega",
                                    "total_sales": "179285.05"
                                },
                                {
                                    "prod_name": "Jekyll",
                                    "total_sales": "178030.4"
                                },
                                {
                                    "prod_name": "Hightower",
                                    "total_sales": "177261.72"
                                },
                                {
                                    "prod_name": "Reactor",
                                    "total_sales": "177031.45"
                                },
                                {
                                    "prod_name": "Foxy",
                                    "total_sales": "175908.75"
                                },
                                {
                                    "prod_name": "Process 134",
                                    "total_sales": "174591.7"
                                },
                                {
                                    "prod_name": "Element",
                                    "total_sales": "172432.22"
                                },
                                {
                                    "prod_name": "Optic",
                                    "total_sales": "169617.94"
                                },
                                {
                                    "prod_name": "SB130",
                                    "total_sales": "167994.75"
                                },
                                {
                                    "prod_name": "Rip9",
                                    "total_sales": "161450.3"
                                },
                                {
                                    "prod_name": "The Smash",
                                    "total_sales": "158426.1"
                                },
                                {
                                    "prod_name": "Ripmo",
                                    "total_sales": "155615.78"
                                },
                                {
                                    "prod_name": "RKT9",
                                    "total_sales": "155181.6"
                                },
                                {
                                    "prod_name": "G-Series",
                                    "total_sales": "153679.02"
                                },
                                {
                                    "prod_name": "Habit",
                                    "total_sales": "146300.44"
                                },
                                {
                                    "prod_name": "OIZ",
                                    "total_sales": "142216.55"
                                },
                                {
                                    "prod_name": "Troy",
                                    "total_sales": "134170.08"
                                },
                                {
                                    "prod_name": "Jet9",
                                    "total_sales": "132057.12"
                                },
                                {
                                    "prod_name": "Scalpel",
                                    "total_sales": "131881.05"
                                },
                                {
                                    "prod_name": "Define",
                                    "total_sales": "130694.84"
                                },
                                {
                                    "prod_name": "Primer",
                                    "total_sales": "127086.04"
                                },
                                {
                                    "prod_name": "T-Series",
                                    "total_sales": "124997.6"
                                },
                                {
                                    "prod_name": "Sensor",
                                    "total_sales": "124729.06"
                                },
                                {
                                    "prod_name": "SB100",
                                    "total_sales": "123426.414"
                                },
                                {
                                    "prod_name": "Process 153",
                                    "total_sales": "118982.01"
                                },
                                {
                                    "prod_name": "Trance",
                                    "total_sales": "116946.375"
                                },
                                {
                                    "prod_name": "Force",
                                    "total_sales": "116708.4"
                                },
                                {
                                    "prod_name": "DV9",
                                    "total_sales": "113877.16"
                                },
                                {
                                    "prod_name": "Thunderbolt",
                                    "total_sales": "103154.9"
                                },
                                {
                                    "prod_name": "Snabb",
                                    "total_sales": "101909.64"
                                },
                                {
                                    "prod_name": "Sniper",
                                    "total_sales": "100955.8"
                                },
                                {
                                    "prod_name": "Scout",
                                    "total_sales": "99342.086"
                                },
                                {
                                    "prod_name": "Tallboy",
                                    "total_sales": "92438.36"
                                },
                                {
                                    "prod_name": "Air9",
                                    "total_sales": "81477.28"
                                },
                                {
                                    "prod_name": "Chameleon",
                                    "total_sales": "71412.48"
                                }
                            ]
                        },
                        "text/html": "<table><tr><th>prod_name</th><th>total_sales</th></tr><tr><td>Rail</td><td>348444.84</td></tr><tr><td>SB160</td><td>324004.06</td></tr><tr><td>Occam</td><td>319280.03</td></tr><tr><td>Altitude</td><td>313788.5</td></tr><tr><td>SB150</td><td>306540</td></tr><tr><td>Gnarvana</td><td>280900.44</td></tr><tr><td>Wreckoning</td><td>278751.8</td></tr><tr><td>E-Series</td><td>269617.47</td></tr><tr><td>Firebird</td><td>259038.38</td></tr><tr><td>Mojo</td><td>255649.11</td></tr><tr><td>Stereo</td><td>235657.39</td></tr><tr><td>Meta Am</td><td>235024.34</td></tr><tr><td>SuperFoxy</td><td>230741.83</td></tr><tr><td>Sight</td><td>226544.44</td></tr><tr><td>Following</td><td>225652.16</td></tr><tr><td>Trail Pistol</td><td>219938.48</td></tr><tr><td>X Trance</td><td>212526.75</td></tr><tr><td>Megatower</td><td>211932.97</td></tr><tr><td>Clash</td><td>208997.75</td></tr><tr><td>Hei Hei</td><td>208890.25</td></tr><tr><td>Shredd Dog</td><td>208804.83</td></tr><tr><td>Megatrail</td><td>207981.69</td></tr><tr><td>Onset</td><td>199980</td></tr><tr><td>Insurgent</td><td>199298.97</td></tr><tr><td>SB115</td><td>197773.69</td></tr><tr><td>Tracer</td><td>196193.78</td></tr><tr><td>Stumpjumper</td><td>194885.1</td></tr><tr><td>Enduro</td><td>193599.38</td></tr><tr><td>Ripley</td><td>192953.55</td></tr><tr><td>Instinct</td><td>192800.8</td></tr><tr><td>SB140</td><td>188543.48</td></tr><tr><td>AMD</td><td>187747.27</td></tr><tr><td>Haste</td><td>180871.84</td></tr><tr><td>Mega</td><td>179285.05</td></tr><tr><td>Jekyll</td><td>178030.4</td></tr><tr><td>Hightower</td><td>177261.72</td></tr><tr><td>Reactor</td><td>177031.45</td></tr><tr><td>Foxy</td><td>175908.75</td></tr><tr><td>Process 134</td><td>174591.7</td></tr><tr><td>Element</td><td>172432.22</td></tr><tr><td>Optic</td><td>169617.94</td></tr><tr><td>SB130</td><td>167994.75</td></tr><tr><td>Rip9</td><td>161450.3</td></tr><tr><td>The Smash</td><td>158426.1</td></tr><tr><td>Ripmo</td><td>155615.78</td></tr><tr><td>RKT9</td><td>155181.6</td></tr><tr><td>G-Series</td><td>153679.02</td></tr><tr><td>Habit</td><td>146300.44</td></tr><tr><td>OIZ</td><td>142216.55</td></tr><tr><td>Troy</td><td>134170.08</td></tr><tr><td>Jet9</td><td>132057.12</td></tr><tr><td>Scalpel</td><td>131881.05</td></tr><tr><td>Define</td><td>130694.84</td></tr><tr><td>Primer</td><td>127086.04</td></tr><tr><td>T-Series</td><td>124997.6</td></tr><tr><td>Sensor</td><td>124729.06</td></tr><tr><td>SB100</td><td>123426.414</td></tr><tr><td>Process 153</td><td>118982.01</td></tr><tr><td>Trance</td><td>116946.375</td></tr><tr><td>Force</td><td>116708.4</td></tr><tr><td>DV9</td><td>113877.16</td></tr><tr><td>Thunderbolt</td><td>103154.9</td></tr><tr><td>Snabb</td><td>101909.64</td></tr><tr><td>Sniper</td><td>100955.8</td></tr><tr><td>Scout</td><td>99342.086</td></tr><tr><td>Tallboy</td><td>92438.36</td></tr><tr><td>Air9</td><td>81477.28</td></tr><tr><td>Chameleon</td><td>71412.48</td></tr></table>"
                    },
                    "metadata": {}
                }
            ],
            "execution_count": 1
        },
        {
            "cell_type": "markdown",
            "source": [
                "Analyzing the growth of mountain bike sales over time:"
            ],
            "metadata": {
                "language": "sql",
                "azdata_cell_guid": "099fea20-edd9-4971-b536-08f17cfd26c3"
            },
            "attachments": {}
        },
        {
            "cell_type": "code",
            "source": [
                "SELECT LEFT(ord_date::text, 4) AS order_year,\r\n",
                "       SUM(order_tot) AS total_sales\r\n",
                "FROM orders o\r\n",
                "JOIN products p ON o.prod_id = p.prod_id\r\n",
                "GROUP BY LEFT(ord_date::text, 4)\r\n",
                "ORDER BY LEFT(ord_date::text, 4);"
            ],
            "metadata": {
                "language": "sql",
                "azdata_cell_guid": "2bccd69d-a18c-407a-89fd-98112ff2f760",
                "tags": []
            },
            "outputs": [
                {
                    "output_type": "display_data",
                    "data": {
                        "text/html": "(20 row(s) affected)"
                    },
                    "metadata": {}
                },
                {
                    "output_type": "display_data",
                    "data": {
                        "text/html": "Total execution time: 00:00:00.004"
                    },
                    "metadata": {}
                },
                {
                    "output_type": "execute_result",
                    "execution_count": 35,
                    "data": {
                        "application/vnd.dataresource+json": {
                            "schema": {
                                "fields": [
                                    {
                                        "name": "order_year"
                                    },
                                    {
                                        "name": "total_sales"
                                    }
                                ]
                            },
                            "data": [
                                {
                                    "order_year": "2000",
                                    "total_sales": "728574"
                                },
                                {
                                    "order_year": "2001",
                                    "total_sales": "696021.1"
                                },
                                {
                                    "order_year": "2002",
                                    "total_sales": "565160.44"
                                },
                                {
                                    "order_year": "2003",
                                    "total_sales": "523462.72"
                                },
                                {
                                    "order_year": "2004",
                                    "total_sales": "577862.3"
                                },
                                {
                                    "order_year": "2005",
                                    "total_sales": "635804.4"
                                },
                                {
                                    "order_year": "2006",
                                    "total_sales": "754774.1"
                                },
                                {
                                    "order_year": "2007",
                                    "total_sales": "598244.7"
                                },
                                {
                                    "order_year": "2008",
                                    "total_sales": "607583.9"
                                },
                                {
                                    "order_year": "2009",
                                    "total_sales": "651427.75"
                                },
                                {
                                    "order_year": "2010",
                                    "total_sales": "655375.1"
                                },
                                {
                                    "order_year": "2011",
                                    "total_sales": "630545.56"
                                },
                                {
                                    "order_year": "2012",
                                    "total_sales": "610428.06"
                                },
                                {
                                    "order_year": "2013",
                                    "total_sales": "637818.1"
                                },
                                {
                                    "order_year": "2014",
                                    "total_sales": "534454.3"
                                },
                                {
                                    "order_year": "2015",
                                    "total_sales": "652318.1"
                                },
                                {
                                    "order_year": "2016",
                                    "total_sales": "602895.5"
                                },
                                {
                                    "order_year": "2017",
                                    "total_sales": "641076.7"
                                },
                                {
                                    "order_year": "2018",
                                    "total_sales": "642704.4"
                                },
                                {
                                    "order_year": "2019",
                                    "total_sales": "558094.44"
                                }
                            ]
                        },
                        "text/html": "<table><tr><th>order_year</th><th>total_sales</th></tr><tr><td>2000</td><td>728574</td></tr><tr><td>2001</td><td>696021.1</td></tr><tr><td>2002</td><td>565160.44</td></tr><tr><td>2003</td><td>523462.72</td></tr><tr><td>2004</td><td>577862.3</td></tr><tr><td>2005</td><td>635804.4</td></tr><tr><td>2006</td><td>754774.1</td></tr><tr><td>2007</td><td>598244.7</td></tr><tr><td>2008</td><td>607583.9</td></tr><tr><td>2009</td><td>651427.75</td></tr><tr><td>2010</td><td>655375.1</td></tr><tr><td>2011</td><td>630545.56</td></tr><tr><td>2012</td><td>610428.06</td></tr><tr><td>2013</td><td>637818.1</td></tr><tr><td>2014</td><td>534454.3</td></tr><tr><td>2015</td><td>652318.1</td></tr><tr><td>2016</td><td>602895.5</td></tr><tr><td>2017</td><td>641076.7</td></tr><tr><td>2018</td><td>642704.4</td></tr><tr><td>2019</td><td>558094.44</td></tr></table>"
                    },
                    "metadata": {}
                }
            ],
            "execution_count": 35
        },
        {
            "cell_type": "markdown",
            "source": [
                "Comparing sales by warehouse to assess capacity:"
            ],
            "metadata": {
                "language": "sql",
                "azdata_cell_guid": "b34758c9-e850-488e-a965-31471cf643a9"
            },
            "attachments": {}
        },
        {
            "cell_type": "code",
            "source": [
                "SELECT w.warehouse_name, SUM(o.order_tot) AS total_sales\r\n",
                "FROM warehouses w\r\n",
                "JOIN orders o ON w.warehouse_id = o.warehouse_id\r\n",
                "GROUP BY w.warehouse_name\r\n",
                "ORDER BY total_sales DESC;"
            ],
            "metadata": {
                "language": "sql",
                "azdata_cell_guid": "a09d5ae7-cf5a-4896-a33a-07eb63ba8baa"
            },
            "outputs": [
                {
                    "output_type": "display_data",
                    "data": {
                        "text/html": "(3 row(s) affected)"
                    },
                    "metadata": {}
                },
                {
                    "output_type": "display_data",
                    "data": {
                        "text/html": "Total execution time: 00:00:00.015"
                    },
                    "metadata": {}
                },
                {
                    "output_type": "execute_result",
                    "execution_count": 13,
                    "data": {
                        "application/vnd.dataresource+json": {
                            "schema": {
                                "fields": [
                                    {
                                        "name": "warehouse_name"
                                    },
                                    {
                                        "name": "total_sales"
                                    }
                                ]
                            },
                            "data": [
                                {
                                    "warehouse_name": "Sacramento",
                                    "total_sales": "4.2647605e+06"
                                },
                                {
                                    "warehouse_name": "Dallas",
                                    "total_sales": "4.1522755e+06"
                                },
                                {
                                    "warehouse_name": "Columbus",
                                    "total_sales": "4.087617e+06"
                                }
                            ]
                        },
                        "text/html": "<table><tr><th>warehouse_name</th><th>total_sales</th></tr><tr><td>Sacramento</td><td>4.2647605e+06</td></tr><tr><td>Dallas</td><td>4.1522755e+06</td></tr><tr><td>Columbus</td><td>4.087617e+06</td></tr></table>"
                    },
                    "metadata": {}
                }
            ],
            "execution_count": 13
        },
        {
            "cell_type": "markdown",
            "source": [
                "Identifying the most popular mountain bike build configurations:"
            ],
            "metadata": {
                "language": "sql",
                "azdata_cell_guid": "a8c618d9-65a5-4726-8c0a-9d007f910991"
            },
            "attachments": {}
        },
        {
            "cell_type": "code",
            "source": [
                "SELECT b.build_id, p.prod_name, COUNT(*) AS total_orders\r\n",
                "FROM builds b\r\n",
                "JOIN productbuilds pb ON b.build_id = pb.build_id\r\n",
                "JOIN products p ON pb.prod_id = p.prod_id\r\n",
                "GROUP BY b.build_id, p.prod_name  -- Added GROUP BY clause\r\n",
                "ORDER BY total_orders DESC\r\n",
                "LIMIT 10;"
            ],
            "metadata": {
                "language": "sql",
                "azdata_cell_guid": "80aea8f2-6981-43b7-913c-eeda5d826882"
            },
            "outputs": [
                {
                    "output_type": "display_data",
                    "data": {
                        "text/html": "(10 row(s) affected)"
                    },
                    "metadata": {}
                },
                {
                    "output_type": "display_data",
                    "data": {
                        "text/html": "Total execution time: 00:00:00.008"
                    },
                    "metadata": {}
                },
                {
                    "output_type": "execute_result",
                    "execution_count": 38,
                    "data": {
                        "application/vnd.dataresource+json": {
                            "schema": {
                                "fields": [
                                    {
                                        "name": "build_id"
                                    },
                                    {
                                        "name": "prod_name"
                                    },
                                    {
                                        "name": "total_orders"
                                    }
                                ]
                            },
                            "data": [
                                {
                                    "build_id": "32",
                                    "prod_name": "Occam",
                                    "total_orders": "2"
                                },
                                {
                                    "build_id": "15",
                                    "prod_name": "Sensor",
                                    "total_orders": "1"
                                },
                                {
                                    "build_id": "13",
                                    "prod_name": "X Trance",
                                    "total_orders": "1"
                                },
                                {
                                    "build_id": "48",
                                    "prod_name": "Trail Pistol",
                                    "total_orders": "1"
                                },
                                {
                                    "build_id": "25",
                                    "prod_name": "AMD",
                                    "total_orders": "1"
                                },
                                {
                                    "build_id": "2",
                                    "prod_name": "Scalpel",
                                    "total_orders": "1"
                                },
                                {
                                    "build_id": "65",
                                    "prod_name": "SB160",
                                    "total_orders": "1"
                                },
                                {
                                    "build_id": "8",
                                    "prod_name": "Rail",
                                    "total_orders": "1"
                                },
                                {
                                    "build_id": "53",
                                    "prod_name": "Stereo",
                                    "total_orders": "1"
                                },
                                {
                                    "build_id": "41",
                                    "prod_name": "SB130",
                                    "total_orders": "1"
                                }
                            ]
                        },
                        "text/html": "<table><tr><th>build_id</th><th>prod_name</th><th>total_orders</th></tr><tr><td>32</td><td>Occam</td><td>2</td></tr><tr><td>15</td><td>Sensor</td><td>1</td></tr><tr><td>13</td><td>X Trance</td><td>1</td></tr><tr><td>48</td><td>Trail Pistol</td><td>1</td></tr><tr><td>25</td><td>AMD</td><td>1</td></tr><tr><td>2</td><td>Scalpel</td><td>1</td></tr><tr><td>65</td><td>SB160</td><td>1</td></tr><tr><td>8</td><td>Rail</td><td>1</td></tr><tr><td>53</td><td>Stereo</td><td>1</td></tr><tr><td>41</td><td>SB130</td><td>1</td></tr></table>"
                    },
                    "metadata": {}
                }
            ],
            "execution_count": 38
        },
        {
            "cell_type": "markdown",
            "source": [
                "Forecasting mountain bike sales for the next year based on historical growth rates:"
            ],
            "metadata": {
                "language": "sql",
                "azdata_cell_guid": "74750e3b-a71e-456c-b685-b8cae154507e"
            },
            "attachments": {}
        },
        {
            "cell_type": "code",
            "source": [
                "WITH sales_growth AS (\r\n",
                "  SELECT EXTRACT(YEAR FROM ord_date::date) AS order_year, \r\n",
                "         SUM(order_tot) AS total_sales,\r\n",
                "         LAG(SUM(order_tot), 1) OVER (ORDER BY EXTRACT(YEAR FROM ord_date::date)) AS prev_year_sales\r\n",
                "  FROM orders o\r\n",
                "  JOIN products p ON o.prod_id = p.prod_id\r\n",
                "  GROUP BY order_year\r\n",
                ")\r\n",
                "SELECT order_year + 1 AS forecast_year, \r\n",
                "       total_sales * (1 + (total_sales - prev_year_sales) / prev_year_sales) AS forecast_sales\r\n",
                "FROM sales_growth\r\n",
                "ORDER BY order_year DESC\r\n",
                "LIMIT 1;"
            ],
            "metadata": {
                "language": "sql",
                "azdata_cell_guid": "3a240fb5-bc89-44fc-b2c4-b724f2ca18cd"
            },
            "outputs": [
                {
                    "output_type": "display_data",
                    "data": {
                        "text/html": "(1 row(s) affected)"
                    },
                    "metadata": {}
                },
                {
                    "output_type": "display_data",
                    "data": {
                        "text/html": "Total execution time: 00:00:00.012"
                    },
                    "metadata": {}
                },
                {
                    "output_type": "execute_result",
                    "execution_count": 34,
                    "data": {
                        "application/vnd.dataresource+json": {
                            "schema": {
                                "fields": [
                                    {
                                        "name": "forecast_year"
                                    },
                                    {
                                        "name": "forecast_sales"
                                    }
                                ]
                            },
                            "data": [
                                {
                                    "forecast_year": "2020",
                                    "forecast_sales": "484623.12561060395"
                                }
                            ]
                        },
                        "text/html": "<table><tr><th>forecast_year</th><th>forecast_sales</th></tr><tr><td>2020</td><td>484623.12561060395</td></tr></table>"
                    },
                    "metadata": {}
                }
            ],
            "execution_count": 34
        }
    ]
}
